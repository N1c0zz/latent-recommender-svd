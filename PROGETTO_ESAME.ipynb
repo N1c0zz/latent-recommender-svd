{
 "cells": [
  {
   "cell_type": "code",
   "execution_count": 4,
   "id": "ed9cee63-8840-405a-a4ea-bc714e431971",
   "metadata": {},
   "outputs": [],
   "source": [
    "# 📌 Setup iniziale\n",
    "import pandas as pd\n",
    "import numpy as np\n",
    "import matplotlib.pyplot as plt\n",
    "import seaborn as sns\n",
    "\n",
    "# Per la SVD\n",
    "from surprise import Dataset, Reader, SVD\n",
    "from surprise.model_selection import train_test_split, cross_validate, GridSearchCV\n",
    "\n",
    "# Ignora warning fastidiosi\n",
    "import warnings\n",
    "warnings.filterwarnings(\"ignore\")"
   ]
  },
  {
   "cell_type": "markdown",
   "id": "b2718f30-b2e5-42be-b550-fef489d6d04e",
   "metadata": {
    "tags": []
   },
   "source": [
    "### 📥 Caricamento del dataset MovieLens 100k\n",
    "\n",
    "In questa fase viene caricato il dataset `MovieLens 100k`, uno dei benchmark più usati per i sistemi di raccomandazione. Il dataset contiene 100.000 valutazioni esplicite (da 1 a 5 stelle) fornite da circa 900 utenti su 1.700 film.\n",
    "\n",
    "Utilizziamo la libreria `surprise`, pensata proprio per la costruzione e valutazione di modelli di raccomandazione. In particolare:\n",
    "\n",
    "- `Dataset.load_builtin('ml-100k')` carica automaticamente il dataset integrato \"ml-100k\" nel formato richiesto da `surprise`.\n",
    "- `train_test_split(...)` suddivide il dataset in un set di addestramento (80%) e uno di test (20%) per validare le performance del modello in modo realistico.\n",
    "- Creiamo anche un DataFrame `df` con i dati grezzi per permettere un'analisi esplorativa iniziale più comoda tramite `pandas`.\n"
   ]
  },
  {
   "cell_type": "code",
   "execution_count": 5,
   "id": "c81cfba6-5796-499f-964e-9aa6fc66fe5a",
   "metadata": {
    "tags": []
   },
   "outputs": [
    {
     "name": "stdout",
     "output_type": "stream",
     "text": [
      "Dataset ml-100k could not be found. Do you want to download it? [Y/n] "
     ]
    },
    {
     "name": "stdin",
     "output_type": "stream",
     "text": [
      " Y\n"
     ]
    },
    {
     "name": "stdout",
     "output_type": "stream",
     "text": [
      "Trying to download dataset from https://files.grouplens.org/datasets/movielens/ml-100k.zip...\n",
      "Done! Dataset ml-100k has been saved to C:\\Users\\nicom/.surprise_data/ml-100k\n"
     ]
    }
   ],
   "source": [
    "data = Dataset.load_builtin('ml-100k')\n",
    "trainset, testset = train_test_split(data, test_size=0.2, random_state=42)"
   ]
  },
  {
   "cell_type": "code",
   "execution_count": 7,
   "id": "ecf1f369-40db-4c0d-bded-641a83b5cab4",
   "metadata": {
    "tags": []
   },
   "outputs": [
    {
     "data": {
      "text/html": [
       "<div>\n",
       "<style scoped>\n",
       "    .dataframe tbody tr th:only-of-type {\n",
       "        vertical-align: middle;\n",
       "    }\n",
       "\n",
       "    .dataframe tbody tr th {\n",
       "        vertical-align: top;\n",
       "    }\n",
       "\n",
       "    .dataframe thead th {\n",
       "        text-align: right;\n",
       "    }\n",
       "</style>\n",
       "<table border=\"1\" class=\"dataframe\">\n",
       "  <thead>\n",
       "    <tr style=\"text-align: right;\">\n",
       "      <th></th>\n",
       "      <th>user</th>\n",
       "      <th>item</th>\n",
       "      <th>rating</th>\n",
       "      <th>timestamp</th>\n",
       "    </tr>\n",
       "  </thead>\n",
       "  <tbody>\n",
       "    <tr>\n",
       "      <th>0</th>\n",
       "      <td>196</td>\n",
       "      <td>242</td>\n",
       "      <td>3.0</td>\n",
       "      <td>881250949</td>\n",
       "    </tr>\n",
       "    <tr>\n",
       "      <th>1</th>\n",
       "      <td>186</td>\n",
       "      <td>302</td>\n",
       "      <td>3.0</td>\n",
       "      <td>891717742</td>\n",
       "    </tr>\n",
       "    <tr>\n",
       "      <th>2</th>\n",
       "      <td>22</td>\n",
       "      <td>377</td>\n",
       "      <td>1.0</td>\n",
       "      <td>878887116</td>\n",
       "    </tr>\n",
       "    <tr>\n",
       "      <th>3</th>\n",
       "      <td>244</td>\n",
       "      <td>51</td>\n",
       "      <td>2.0</td>\n",
       "      <td>880606923</td>\n",
       "    </tr>\n",
       "    <tr>\n",
       "      <th>4</th>\n",
       "      <td>166</td>\n",
       "      <td>346</td>\n",
       "      <td>1.0</td>\n",
       "      <td>886397596</td>\n",
       "    </tr>\n",
       "  </tbody>\n",
       "</table>\n",
       "</div>"
      ],
      "text/plain": [
       "  user item  rating  timestamp\n",
       "0  196  242     3.0  881250949\n",
       "1  186  302     3.0  891717742\n",
       "2   22  377     1.0  878887116\n",
       "3  244   51     2.0  880606923\n",
       "4  166  346     1.0  886397596"
      ]
     },
     "execution_count": 7,
     "metadata": {},
     "output_type": "execute_result"
    }
   ],
   "source": [
    "df = pd.DataFrame(data.raw_ratings, columns=[\"user\", \"item\", \"rating\", \"timestamp\"])\n",
    "df.head()"
   ]
  },
  {
   "cell_type": "code",
   "execution_count": null,
   "id": "5c51d640-b8d5-4b40-a304-e1869324bf74",
   "metadata": {},
   "outputs": [],
   "source": []
  }
 ],
 "metadata": {
  "kernelspec": {
   "display_name": "Python 3 (ipykernel)",
   "language": "python",
   "name": "python3"
  },
  "language_info": {
   "codemirror_mode": {
    "name": "ipython",
    "version": 3
   },
   "file_extension": ".py",
   "mimetype": "text/x-python",
   "name": "python",
   "nbconvert_exporter": "python",
   "pygments_lexer": "ipython3",
   "version": "3.11.5"
  }
 },
 "nbformat": 4,
 "nbformat_minor": 5
}
