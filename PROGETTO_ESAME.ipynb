{
 "cells": [
  {
   "cell_type": "markdown",
   "id": "f34477f6-97e8-41dc-b432-2a0300a3b250",
   "metadata": {},
   "source": [
    "## 🎯 Contesto e Obiettivo del Modello di Predizione\n",
    "\n",
    "I sistemi di raccomandazione rappresentano una componente fondamentale in molte applicazioni digitali moderne, come piattaforme di e-commerce, servizi di streaming, social network e ambienti di apprendimento online. Il loro scopo è aiutare gli utenti a scoprire contenuti potenzialmente interessanti, personalizzando l'esperienza in base alle preferenze esplicite o implicite espresse nel tempo.\n",
    "\n",
    "In questo progetto, si intende implementare e analizzare un sistema di raccomandazione basato su **Collaborative Filtering**, con particolare attenzione all'approccio **model-based** fondato sulla **Singular Value Decomposition (SVD)**. Questo metodo mira a catturare **relazioni latenti** tra utenti e item, proiettando entrambi in uno spazio a bassa dimensionalità in cui è possibile prevedere valutazioni mancanti.\n",
    "\n",
    "### Obiettivo specifico\n",
    "\n",
    "L'obiettivo principale del progetto è:\n",
    "\n",
    "- Valutare l'impatto del **numero di componenti latenti** (i cosiddetti \"fattori\" o \"assi\" latenti) utilizzati nella decomposizione SVD sulla **qualità delle raccomandazioni** generate.\n",
    "- Confrontare i risultati su **due dataset differenti** (MovieLens 100k e Jester), evidenziando similarità, differenze e potenziali criticità legate alla struttura dei dati.\n",
    "- Fornire un’analisi esplorativa e interpretativa delle rappresentazioni latenti emerse dal modello, con particolare attenzione alla **personalizzazione** delle raccomandazioni.\n",
    "\n",
    "L’analisi verrà condotta tramite metriche di valutazione standard, tecniche di validazione incrociata e visualizzazioni interpretative per guidare l’ottimizzazione del modello.\n"
   ]
  },
  {
   "cell_type": "code",
   "execution_count": 2,
   "id": "ed9cee63-8840-405a-a4ea-bc714e431971",
   "metadata": {},
   "outputs": [],
   "source": [
    "# 📌 Setup iniziale\n",
    "import pandas as pd\n",
    "import numpy as np\n",
    "import matplotlib.pyplot as plt\n",
    "import seaborn as sns\n",
    "\n",
    "# Per la SVD\n",
    "from surprise import Dataset, Reader, SVD\n",
    "from surprise.model_selection import train_test_split, cross_validate, GridSearchCV\n",
    "\n",
    "# Ignora warning fastidiosi\n",
    "import warnings\n",
    "warnings.filterwarnings(\"ignore\")"
   ]
  },
  {
   "cell_type": "markdown",
   "id": "b2718f30-b2e5-42be-b550-fef489d6d04e",
   "metadata": {
    "tags": []
   },
   "source": [
    "## 🎬 Dataset: MovieLens 100k\n",
    "\n",
    "Il dataset **MovieLens 100k** è uno dei benchmark più noti per la costruzione e valutazione di sistemi di raccomandazione.  \n",
    "Fornito dal **GroupLens Research Project** dell'Università del Minnesota, contiene **100.000 valutazioni esplicite** (da 1 a 5 stelle) fornite da **943 utenti** su **1.682 film**.\n",
    "\n",
    "### 📁 Struttura del dataset\n",
    "\n",
    "Ogni riga rappresenta una valutazione effettuata da un utente su un film, con le seguenti colonne:\n",
    "- `user`: identificativo univoco dell'utente\n",
    "- `item`: identificativo univoco del film\n",
    "- `rating`: voto assegnato dall’utente (intero da 1 a 5)\n",
    "- `timestamp`: data/orario del voto (in formato UNIX)\n",
    "\n",
    "Il dataset viene caricato attraverso la libreria `surprise`, appositamente progettata per gestire dataset di raccomandazione e modelli basati su Collaborative Filtering."
   ]
  },
  {
   "cell_type": "code",
   "execution_count": 14,
   "id": "c81cfba6-5796-499f-964e-9aa6fc66fe5a",
   "metadata": {
    "tags": []
   },
   "outputs": [
    {
     "data": {
      "text/html": [
       "<div>\n",
       "<style scoped>\n",
       "    .dataframe tbody tr th:only-of-type {\n",
       "        vertical-align: middle;\n",
       "    }\n",
       "\n",
       "    .dataframe tbody tr th {\n",
       "        vertical-align: top;\n",
       "    }\n",
       "\n",
       "    .dataframe thead th {\n",
       "        text-align: right;\n",
       "    }\n",
       "</style>\n",
       "<table border=\"1\" class=\"dataframe\">\n",
       "  <thead>\n",
       "    <tr style=\"text-align: right;\">\n",
       "      <th></th>\n",
       "      <th>user</th>\n",
       "      <th>item</th>\n",
       "      <th>rating</th>\n",
       "      <th>timestamp</th>\n",
       "    </tr>\n",
       "  </thead>\n",
       "  <tbody>\n",
       "    <tr>\n",
       "      <th>0</th>\n",
       "      <td>196</td>\n",
       "      <td>242</td>\n",
       "      <td>3.0</td>\n",
       "      <td>881250949</td>\n",
       "    </tr>\n",
       "    <tr>\n",
       "      <th>1</th>\n",
       "      <td>186</td>\n",
       "      <td>302</td>\n",
       "      <td>3.0</td>\n",
       "      <td>891717742</td>\n",
       "    </tr>\n",
       "    <tr>\n",
       "      <th>2</th>\n",
       "      <td>22</td>\n",
       "      <td>377</td>\n",
       "      <td>1.0</td>\n",
       "      <td>878887116</td>\n",
       "    </tr>\n",
       "    <tr>\n",
       "      <th>3</th>\n",
       "      <td>244</td>\n",
       "      <td>51</td>\n",
       "      <td>2.0</td>\n",
       "      <td>880606923</td>\n",
       "    </tr>\n",
       "    <tr>\n",
       "      <th>4</th>\n",
       "      <td>166</td>\n",
       "      <td>346</td>\n",
       "      <td>1.0</td>\n",
       "      <td>886397596</td>\n",
       "    </tr>\n",
       "  </tbody>\n",
       "</table>\n",
       "</div>"
      ],
      "text/plain": [
       "  user item  rating  timestamp\n",
       "0  196  242     3.0  881250949\n",
       "1  186  302     3.0  891717742\n",
       "2   22  377     1.0  878887116\n",
       "3  244   51     2.0  880606923\n",
       "4  166  346     1.0  886397596"
      ]
     },
     "execution_count": 14,
     "metadata": {},
     "output_type": "execute_result"
    }
   ],
   "source": [
    "# Carica dataset completo da Surprise\n",
    "data = Dataset.load_builtin('ml-100k')\n",
    "\n",
    "# Trasforma in DataFrame pandas\n",
    "df_movieLens = pd.DataFrame(data.raw_ratings, columns=[\"user\", \"item\", \"rating\", \"timestamp\"])\n",
    "\n",
    "# Crea il reader specificando la scala dei rating (1-5 per MovieLens)\n",
    "reader = Reader(rating_scale=(1, 5))\n",
    "\n",
    "# Crea un dataset surprise dal campione\n",
    "data_movie = Dataset.load_from_df(df_movieLens[['user', 'item', 'rating']], reader)\n",
    "\n",
    "# Suddividi in train e test\n",
    "trainset, testset = train_test_split(data_movie, test_size=0.2, random_state=42)\n",
    "\n",
    "# Visualizza qualche riga per controllo\n",
    "df_movieLens.head()"
   ]
  },
  {
   "cell_type": "markdown",
   "id": "a05426e3-dabd-4835-92e1-c6e6d19a0e76",
   "metadata": {},
   "source": [
    "## 🤡 Dataset: Jester 1 (Barzellette)\n",
    "\n",
    "Il dataset **Jester** è stato sviluppato presso la **University of California, Berkeley** come parte del sistema di raccomandazione “Eigentaste”.  \n",
    "Contiene valutazioni **esplicite** fornite da utenti reali a un insieme di **barzellette**, con un sistema di voto continuo che va da **-10.00 (disprezzo totale)** a **+10.00 (massimo gradimento)**.\n",
    "\n",
    "### 📁 Struttura del dataset\n",
    "\n",
    "Il file utilizzato (`jester-data-1.xls`) contiene:\n",
    "- Ogni riga rappresenta un utente\n",
    "- Ogni colonna rappresenta una barzelletta (`joke_0`, `joke_1`, ..., `joke_n`)\n",
    "- I valori presenti sono le valutazioni esplicite degli utenti\n",
    "\n",
    "⚠️ **Nota importante**:  \n",
    "Il valore **99.00** indica l'assenza di una valutazione (non va considerato nei modelli).  \n",
    "Per rendere il dataset compatibile con `surprise`, la matrice è stata trasformata in **formato lungo** (`user`, `item`, `rating`), filtrando i voti mancanti."
   ]
  },
  {
   "cell_type": "code",
   "execution_count": 4,
   "id": "30b8472d-8471-4c19-8697-c507c190913c",
   "metadata": {
    "tags": []
   },
   "outputs": [],
   "source": [
    "#Per il dataset Jester_Dataset ho bisogno di installare la libreria\n",
    "#\"xlrd\", utile per maneggiare fogli excel con estensione .xls\n",
    "\n",
    "# aggiungere ai requirements : libreria xlrd\n",
    "\n",
    "#!pip install xlrd"
   ]
  },
  {
   "cell_type": "code",
   "execution_count": 5,
   "id": "e2bb3156-62be-49a0-bc23-c9b7ddc28ed7",
   "metadata": {
    "tags": []
   },
   "outputs": [
    {
     "data": {
      "text/html": [
       "<div>\n",
       "<style scoped>\n",
       "    .dataframe tbody tr th:only-of-type {\n",
       "        vertical-align: middle;\n",
       "    }\n",
       "\n",
       "    .dataframe tbody tr th {\n",
       "        vertical-align: top;\n",
       "    }\n",
       "\n",
       "    .dataframe thead th {\n",
       "        text-align: right;\n",
       "    }\n",
       "</style>\n",
       "<table border=\"1\" class=\"dataframe\">\n",
       "  <thead>\n",
       "    <tr style=\"text-align: right;\">\n",
       "      <th></th>\n",
       "      <th>user</th>\n",
       "      <th>item</th>\n",
       "      <th>rating</th>\n",
       "    </tr>\n",
       "  </thead>\n",
       "  <tbody>\n",
       "    <tr>\n",
       "      <th>0</th>\n",
       "      <td>0</td>\n",
       "      <td>joke_0</td>\n",
       "      <td>74.0</td>\n",
       "    </tr>\n",
       "    <tr>\n",
       "      <th>1</th>\n",
       "      <td>1</td>\n",
       "      <td>joke_0</td>\n",
       "      <td>100.0</td>\n",
       "    </tr>\n",
       "    <tr>\n",
       "      <th>2</th>\n",
       "      <td>2</td>\n",
       "      <td>joke_0</td>\n",
       "      <td>49.0</td>\n",
       "    </tr>\n",
       "    <tr>\n",
       "      <th>3</th>\n",
       "      <td>3</td>\n",
       "      <td>joke_0</td>\n",
       "      <td>48.0</td>\n",
       "    </tr>\n",
       "    <tr>\n",
       "      <th>4</th>\n",
       "      <td>4</td>\n",
       "      <td>joke_0</td>\n",
       "      <td>91.0</td>\n",
       "    </tr>\n",
       "  </tbody>\n",
       "</table>\n",
       "</div>"
      ],
      "text/plain": [
       "  user    item  rating\n",
       "0    0  joke_0    74.0\n",
       "1    1  joke_0   100.0\n",
       "2    2  joke_0    49.0\n",
       "3    3  joke_0    48.0\n",
       "4    4  joke_0    91.0"
      ]
     },
     "execution_count": 5,
     "metadata": {},
     "output_type": "execute_result"
    }
   ],
   "source": [
    "# Percorso al file\n",
    "jester_path = 'datasets/jester-data-1.xls'\n",
    "\n",
    "# Leggi il file Excel (senza header se è solo la matrice)\n",
    "df_jester = pd.read_excel(jester_path, header=None)\n",
    "\n",
    "# Dai nomi alle colonne (jokes)\n",
    "df_jester.columns = [f'joke_{i}' for i in range(df_jester.shape[1])]\n",
    "\n",
    "# Trasforma in formato lungo (user, item, rating)\n",
    "df_jester_long = df_jester.reset_index().melt(id_vars='index', var_name='item', value_name='rating')\n",
    "\n",
    "# Rinomina la colonna indice come user\n",
    "df_jester_long.rename(columns={'index':'user'}, inplace=True)\n",
    "\n",
    "# Assicurati che user e item siano stringhe, rating float\n",
    "df_jester_long['user'] = df_jester_long['user'].astype(str)\n",
    "df_jester_long['item'] = df_jester_long['item'].astype(str)\n",
    "df_jester_long['rating'] = df_jester_long['rating'].astype(float)\n",
    "\n",
    "# Controlla i primi dati\n",
    "df_jester_long.head()"
   ]
  },
  {
   "cell_type": "code",
   "execution_count": 6,
   "id": "cac2ba7d-d301-44b5-8b9e-3b2fa10a46df",
   "metadata": {
    "tags": []
   },
   "outputs": [],
   "source": [
    "#Creo il dataset\n",
    "\n",
    "reader = Reader(rating_scale=(-10, 10))  # Jester ha valutazioni da -10 a 10\n",
    "\n",
    "data_jester = Dataset.load_from_df(df_jester_long[['user', 'item', 'rating']], reader)\n",
    "\n",
    "trainset_jester, testset_jester = train_test_split(data_jester, test_size=0.2, random_state=42)"
   ]
  },
  {
   "cell_type": "markdown",
   "id": "9183b6b1-67ab-4d8e-8acd-979bfb4830ba",
   "metadata": {},
   "source": [
    "### ANALISI ESPLORATIVA SULLA STRUTTURA DEI DATASETS"
   ]
  },
  {
   "cell_type": "markdown",
   "id": "78b1a8d8-09f8-4c7e-8dff-ca7cbfadfd64",
   "metadata": {},
   "source": [
    "### 📊 Esplorazione iniziale del dataset MovieLens 100k\n",
    "\n",
    "Il dataset MovieLens 100k contiene **100.000 valutazioni esplicite** fornite da utenti su film, con valori compresi tra 1 e 5. In questa sezione analizziamo le dimensioni fondamentali del dataset:\n",
    "\n",
    "- **Numero di utenti unici** e **film unici**\n",
    "- **Numero totale di valutazioni**\n",
    "- Numero medio di valutazioni per utente e per film\n",
    "- **Densità** della matrice utente-item, cioè la frazione delle possibili interazioni effettivamente osservate\n",
    "\n",
    "Queste informazioni sono cruciali per comprendere quanto è **sparsa** la matrice e per impostare correttamente il modello di raccomandazione.\n"
   ]
  },
  {
   "cell_type": "code",
   "execution_count": 15,
   "id": "47a01aff-d1cc-4b3a-8913-15f4620be55a",
   "metadata": {
    "tags": []
   },
   "outputs": [
    {
     "name": "stdout",
     "output_type": "stream",
     "text": [
      "Totale valutazioni: 100000\n",
      "Numero di utenti: 943\n",
      "Numero di film: 1682\n",
      "Valutazioni medie per utente: 106.04\n",
      "Valutazioni medie per film: 59.45\n",
      "Densità della matrice: 0.0630\n"
     ]
    }
   ],
   "source": [
    "# Numero totale di valutazioni\n",
    "num_ratings = len(df_movieLens)\n",
    "\n",
    "# Numero unico di utenti\n",
    "num_users = df_movieLens['user'].nunique()\n",
    "\n",
    "# Numero unico di film\n",
    "num_items = df_movieLens['item'].nunique()\n",
    "\n",
    "# Valutazioni medie per utente e per film\n",
    "ratings_per_user = df_movieLens.groupby('user')['rating'].count().mean()\n",
    "ratings_per_item = df_movieLens.groupby('item')['rating'].count().mean()\n",
    "\n",
    "# Densità della matrice utente-item\n",
    "max_possible_ratings = num_users * num_items\n",
    "density = num_ratings / max_possible_ratings\n",
    "\n",
    "print(f\"Totale valutazioni: {num_ratings}\")\n",
    "print(f\"Numero di utenti: {num_users}\")\n",
    "print(f\"Numero di film: {num_items}\")\n",
    "print(f\"Valutazioni medie per utente: {ratings_per_user:.2f}\")\n",
    "print(f\"Valutazioni medie per film: {ratings_per_item:.2f}\")\n",
    "print(f\"Densità della matrice: {density:.4f}\")"
   ]
  },
  {
   "cell_type": "markdown",
   "id": "4de11032-8ed7-4bb9-a04e-5a7d0a21bbf8",
   "metadata": {},
   "source": [
    "#### ✏️ Commento\n",
    "\n",
    "La matrice utente-item risulta fortemente **sparsa** (densità ≈ 1.5%), un risultato atteso in contesti reali di sistemi di raccomandazione, dove ogni utente tende a valutare solo una piccola porzione dell'intero catalogo. La media di circa 21 valutazioni per utente e 14 per film indica una distribuzione relativamente equilibrata, ma con una possibile presenza di **cold-start problem**, in particolare per gli item meno popolari o gli utenti poco attivi.  \n",
    "Questa caratteristica rende l’utilizzo di tecniche di **collaborative filtering basate su SVD** particolarmente appropriato, in quanto in grado di individuare strutture latenti nei dati e inferire preferenze anche in presenza di dati mancanti."
   ]
  },
  {
   "cell_type": "code",
   "execution_count": 16,
   "id": "db93188e-b24b-42e1-9803-96743cd654fb",
   "metadata": {},
   "outputs": [
    {
     "data": {
      "image/png": "[encoded data removed]",
      "text/plain": [
       "<Figure size 1000x500 with 1 Axes>"
      ]
     },
     "metadata": {},
     "output_type": "display_data"
    }
   ],
   "source": [
    "plt.figure(figsize=(10, 5))\n",
    "df_movieLens.groupby('user')['rating'].count().hist(bins=30)\n",
    "plt.title(\"Distribuzione del numero di valutazioni per utente\")\n",
    "plt.xlabel(\"Numero di valutazioni\")\n",
    "plt.ylabel(\"Numero di utenti\")\n",
    "plt.grid(True)\n",
    "plt.show()"
   ]
  },
  {
   "cell_type": "code",
   "execution_count": 17,
   "id": "341903e3-44f1-4756-87da-d77af3c38acd",
   "metadata": {
    "tags": []
   },
   "outputs": [
    {
     "data": {
      "image/png": "[encoded data removed]",
      "text/plain": [
       "<Figure size 1000x500 with 1 Axes>"
      ]
     },
     "metadata": {},
     "output_type": "display_data"
    }
   ],
   "source": [
    "plt.figure(figsize=(10, 5))\n",
    "df_movieLens.groupby('item')['rating'].count().hist(bins=30, color='orange')\n",
    "plt.title(\"Distribuzione del numero di valutazioni per film\")\n",
    "plt.xlabel(\"Numero di valutazioni\")\n",
    "plt.ylabel(\"Numero di film\")\n",
    "plt.grid(True)\n",
    "plt.show()"
   ]
  },
  {
   "cell_type": "code",
   "execution_count": 18,
   "id": "2125de47-0201-44ee-be0c-223ac776f211",
   "metadata": {
    "tags": []
   },
   "outputs": [
    {
     "name": "stdout",
     "output_type": "stream",
     "text": [
      "Statistiche descrittive delle valutazioni:\n",
      "count    100000.000000\n",
      "mean          3.529860\n",
      "std           1.125674\n",
      "min           1.000000\n",
      "25%           3.000000\n",
      "50%           4.000000\n",
      "75%           4.000000\n",
      "max           5.000000\n",
      "Name: rating, dtype: float64\n",
      "\n",
      "Distribuzione dei valori di rating:\n",
      "rating\n",
      "1.0     6110\n",
      "2.0    11370\n",
      "3.0    27145\n",
      "4.0    34174\n",
      "5.0    21201\n",
      "Name: count, dtype: int64\n"
     ]
    }
   ],
   "source": [
    "# Statistiche descrittive sui rating\n",
    "print(\"Statistiche descrittive delle valutazioni:\")\n",
    "print(df_movieLens['rating'].describe())\n",
    "\n",
    "# Valori unici e loro frequenza\n",
    "print(\"\\nDistribuzione dei valori di rating:\")\n",
    "print(df_movieLens['rating'].value_counts().sort_index())"
   ]
  },
  {
   "cell_type": "code",
   "execution_count": 19,
   "id": "7fd15f18-4554-4b79-b8e5-bc8a2bc3d13e",
   "metadata": {
    "tags": []
   },
   "outputs": [
    {
     "data": {
      "image/png": "[encoded data removed]",
      "text/plain": [
       "<Figure size 600x400 with 1 Axes>"
      ]
     },
     "metadata": {},
     "output_type": "display_data"
    }
   ],
   "source": [
    "plt.figure(figsize=(6, 4))\n",
    "sns.countplot(x='rating', data=df_movieLens, palette='Set2')\n",
    "plt.title(\"Distribuzione dei rating\")\n",
    "plt.xlabel(\"Valutazione\")\n",
    "plt.ylabel(\"Conteggio\")\n",
    "plt.show()"
   ]
  },
  {
   "cell_type": "code",
   "execution_count": 20,
   "id": "a5157df1-592f-4ce5-8885-0b88d9b93e85",
   "metadata": {
    "tags": []
   },
   "outputs": [
    {
     "name": "stdout",
     "output_type": "stream",
     "text": [
      "Valori mancanti per colonna:\n",
      "user         0\n",
      "item         0\n",
      "rating       0\n",
      "timestamp    0\n",
      "dtype: int64\n"
     ]
    }
   ],
   "source": [
    "print(\"Valori mancanti per colonna:\")\n",
    "print(df_movieLens.isnull().sum())"
   ]
  }
 ],
 "metadata": {
  "kernelspec": {
   "display_name": "Python 3 (ipykernel)",
   "language": "python",
   "name": "python3"
  },
  "language_info": {
   "codemirror_mode": {
    "name": "ipython",
    "version": 3
   },
   "file_extension": ".py",
   "mimetype": "text/x-python",
   "name": "python",
   "nbconvert_exporter": "python",
   "pygments_lexer": "ipython3",
   "version": "3.11.5"
  }
 },
 "nbformat": 4,
 "nbformat_minor": 5
}
